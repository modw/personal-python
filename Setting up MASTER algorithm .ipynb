{
 "cells": [
  {
   "cell_type": "code",
   "execution_count": 1,
   "metadata": {
    "collapsed": true
   },
   "outputs": [],
   "source": [
    "import healpy as hp\n",
    "import numpy as np\n",
    "import pandas as pd\n",
    "import seaborn as sns\n",
    "import matplotlib.pyplot as plt\n",
    "\n",
    "%matplotlib inline"
   ]
  },
  {
   "cell_type": "code",
   "execution_count": 10,
   "metadata": {},
   "outputs": [],
   "source": [
    "from sympy.physics.wigner import wigner_3j\n",
    "from sympy import N"
   ]
  },
  {
   "cell_type": "code",
   "execution_count": 66,
   "metadata": {},
   "outputs": [],
   "source": [
    "def _w3(l1,l2,l3):\n",
    "    return N(wigner_3j(l1,l2,l3,0,0,0))\n",
    "_w3 = np.vectorize(_w3)"
   ]
  },
  {
   "cell_type": "code",
   "execution_count": 170,
   "metadata": {},
   "outputs": [],
   "source": [
    "def master(l1,l2,wl,lmax=None):\n",
    "    \"\"\"Calculate component (l1,l2) of M matrix.\n",
    "    > Parameters:\n",
    "    l1,l2: ints, elements of matrix\n",
    "    wl: numpy array, power spectrum of mask\n",
    "    lmax: int, if not give lmax is taken from wl\n",
    "    > Returns:\n",
    "    M_l1l2: float, element (l1,l2) of M matrix\"\"\"\n",
    "    if lmax is None:\n",
    "        wl_in = np.copy(wl)\n",
    "        lmax_in = len(wl)-1\n",
    "    elif len(wl) >= (lmax+1):\n",
    "        wl_in = wl[:lmax+1]\n",
    "        lmax_in = lmax\n",
    "    elif len(wl) < (lmax+1):\n",
    "        lmax_in = len(wl) - 1\n",
    "        wl_in = np.copy(wl)\n",
    "        print(\"lmax > len(wl)-1, using lmax = len(wl) -1 = {} instead\".format(lmax_in))\n",
    "    l3 = np.arange(lmax_in+1)\n",
    "    sum_l3 = np.sum((2*l3+1)*wl_in*_w3(l1,l2,l3)**2)\n",
    "    return (2*l2+1)*sum_l3/(4*np.pi)"
   ]
  },
  {
   "cell_type": "code",
   "execution_count": 231,
   "metadata": {
    "collapsed": true
   },
   "outputs": [],
   "source": [
    "def master_matrix(wl,lmax=None):\n",
    "    \"\"\"Calculate M matrix as (lmax+1,lmax+1) ndarray.\n",
    "    > Parameters:\n",
    "    wl: numpy array, power spectrum of mask\n",
    "    lmax: int, if not give lmax is taken from wl\n",
    "    > Returns:\n",
    "    M: ndarray of dimension, the master matrix\"\"\"\n",
    "    if lmax is None:\n",
    "        lmax_in = len(wl)-1\n",
    "    else:\n",
    "        lmax_in = lmax\n",
    "    def master2(l1,l2):\n",
    "        return master(l1,l2,wl,lmax_in)\n",
    "    master2 = np.vectorize(master2)\n",
    "    lrange = np.arange(lmax_in+1)\n",
    "    l1v,l2v = np.meshgrid(lrange,lrange)\n",
    "    matrix = master2(l1v,l2v)\n",
    "    return np.asfarray(matrix)"
   ]
  },
  {
   "cell_type": "code",
   "execution_count": 223,
   "metadata": {},
   "outputs": [],
   "source": [
    "mask = hp.read_map('wiener_filter/commander_mask_n16.fits', verbose=False)\n",
    "nside = hp.get_nside(mask)\n",
    "lmax = 2*nside\n",
    "wl = hp.anafast(mask,lmax=lmax)\n",
    "cl = np.load('wiener_filter/cls_PlanckPR2_TT_lowp_lensing_lensed.npy')"
   ]
  },
  {
   "cell_type": "code",
   "execution_count": 230,
   "metadata": {},
   "outputs": [],
   "source": [
    "m = master_matrix(wl)"
   ]
  },
  {
   "cell_type": "code",
   "execution_count": 237,
   "metadata": {
    "collapsed": true
   },
   "outputs": [],
   "source": [
    "m_bf = np.zeros((lmax+1,lmax+1))\n",
    "for l1 in range(lmax+1):\n",
    "    for l2 in range(lmax+1):\n",
    "        m_bf[l1,l2] = master(l1,l2,wl)"
   ]
  },
  {
   "cell_type": "code",
   "execution_count": 151,
   "metadata": {
    "collapsed": true
   },
   "outputs": [],
   "source": [
    "# testing method"
   ]
  },
  {
   "cell_type": "code",
   "execution_count": 162,
   "metadata": {
    "collapsed": true
   },
   "outputs": [],
   "source": [
    "cl_mu = np.zeros(lmax+1)\n",
    "cl_til_mu = np.zeros(lmax+1)\n",
    "n = 1000\n",
    "for i in range(n):\n",
    "    map_ = hp.synfast(cl,nside, lmax, verbose=False)\n",
    "    cl_mu += hp.anafast(map_,lmax=lmax)\n",
    "    map_[mask == 0] = hp.UNSEEN\n",
    "    cl_til_mu += hp.anafast(map_,lmax=lmax)\n",
    "df = pd.DataFrame(dict(cl = cl_mu/n, cl_til = cl_til_mu/n))"
   ]
  },
  {
   "cell_type": "code",
   "execution_count": 238,
   "metadata": {
    "collapsed": true
   },
   "outputs": [],
   "source": [
    "df['cl_m'] = np.dot(m_bf,df.cl)"
   ]
  },
  {
   "cell_type": "code",
   "execution_count": 239,
   "metadata": {},
   "outputs": [
    {
     "data": {
      "text/html": [
       "<div>\n",
       "<style>\n",
       "    .dataframe thead tr:only-child th {\n",
       "        text-align: right;\n",
       "    }\n",
       "\n",
       "    .dataframe thead th {\n",
       "        text-align: left;\n",
       "    }\n",
       "\n",
       "    .dataframe tbody tr th {\n",
       "        vertical-align: top;\n",
       "    }\n",
       "</style>\n",
       "<table border=\"1\" class=\"dataframe\">\n",
       "  <thead>\n",
       "    <tr style=\"text-align: right;\">\n",
       "      <th></th>\n",
       "      <th>cl</th>\n",
       "      <th>cl_til</th>\n",
       "      <th>cl_m</th>\n",
       "    </tr>\n",
       "  </thead>\n",
       "  <tbody>\n",
       "    <tr>\n",
       "      <th>count</th>\n",
       "      <td>3.300000e+01</td>\n",
       "      <td>33.000000</td>\n",
       "      <td>33.000000</td>\n",
       "    </tr>\n",
       "    <tr>\n",
       "      <th>mean</th>\n",
       "      <td>8.617079e+01</td>\n",
       "      <td>37.956297</td>\n",
       "      <td>37.819307</td>\n",
       "    </tr>\n",
       "    <tr>\n",
       "      <th>std</th>\n",
       "      <td>2.118194e+02</td>\n",
       "      <td>76.242889</td>\n",
       "      <td>76.699397</td>\n",
       "    </tr>\n",
       "    <tr>\n",
       "      <th>min</th>\n",
       "      <td>2.430423e-09</td>\n",
       "      <td>4.153844</td>\n",
       "      <td>3.350161</td>\n",
       "    </tr>\n",
       "    <tr>\n",
       "      <th>25%</th>\n",
       "      <td>8.794218e+00</td>\n",
       "      <td>5.892855</td>\n",
       "      <td>5.609037</td>\n",
       "    </tr>\n",
       "    <tr>\n",
       "      <th>50%</th>\n",
       "      <td>1.599686e+01</td>\n",
       "      <td>10.297732</td>\n",
       "      <td>10.128872</td>\n",
       "    </tr>\n",
       "    <tr>\n",
       "      <th>75%</th>\n",
       "      <td>4.753208e+01</td>\n",
       "      <td>27.465380</td>\n",
       "      <td>27.412778</td>\n",
       "    </tr>\n",
       "    <tr>\n",
       "      <th>max</th>\n",
       "      <td>1.122140e+03</td>\n",
       "      <td>403.656087</td>\n",
       "      <td>405.370530</td>\n",
       "    </tr>\n",
       "  </tbody>\n",
       "</table>\n",
       "</div>"
      ],
      "text/plain": [
       "                 cl      cl_til        cl_m\n",
       "count  3.300000e+01   33.000000   33.000000\n",
       "mean   8.617079e+01   37.956297   37.819307\n",
       "std    2.118194e+02   76.242889   76.699397\n",
       "min    2.430423e-09    4.153844    3.350161\n",
       "25%    8.794218e+00    5.892855    5.609037\n",
       "50%    1.599686e+01   10.297732   10.128872\n",
       "75%    4.753208e+01   27.465380   27.412778\n",
       "max    1.122140e+03  403.656087  405.370530"
      ]
     },
     "execution_count": 239,
     "metadata": {},
     "output_type": "execute_result"
    }
   ],
   "source": [
    "df.describe()"
   ]
  },
  {
   "cell_type": "code",
   "execution_count": 240,
   "metadata": {},
   "outputs": [
    {
     "data": {
      "image/png": "[encoded data removed]",
      "text/plain": [
       "<matplotlib.figure.Figure at 0x7f0a0abe7e48>"
      ]
     },
     "metadata": {},
     "output_type": "display_data"
    }
   ],
   "source": [
    "df.plot()\n",
    "plt.show()"
   ]
  },
  {
   "cell_type": "code",
   "execution_count": null,
   "metadata": {
    "collapsed": true
   },
   "outputs": [],
   "source": []
  }
 ],
 "metadata": {
  "kernelspec": {
   "display_name": "Python 3",
   "language": "python",
   "name": "python3"
  },
  "language_info": {
   "codemirror_mode": {
    "name": "ipython",
    "version": 3
   },
   "file_extension": ".py",
   "mimetype": "text/x-python",
   "name": "python",
   "nbconvert_exporter": "python",
   "pygments_lexer": "ipython3",
   "version": "3.5.1"
  }
 },
 "nbformat": 4,
 "nbformat_minor": 2
}
