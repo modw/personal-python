{
 "cells": [
  {
   "cell_type": "code",
   "execution_count": 1,
   "metadata": {
    "collapsed": true
   },
   "outputs": [],
   "source": [
    "import healpy as hp\n",
    "import numpy as np\n",
    "import pandas as pd\n",
    "import seaborn as sns\n",
    "import matplotlib.pyplot as plt\n",
    "\n",
    "%matplotlib inline"
   ]
  },
  {
   "cell_type": "code",
   "execution_count": 50,
   "metadata": {},
   "outputs": [],
   "source": [
    "import master as ms"
   ]
  },
  {
   "cell_type": "code",
   "execution_count": 2,
   "metadata": {
    "collapsed": true
   },
   "outputs": [],
   "source": [
    "from sympy.physics.wigner import wigner_3j"
   ]
  },
  {
   "cell_type": "code",
   "execution_count": 13,
   "metadata": {
    "collapsed": true
   },
   "outputs": [],
   "source": [
    "def _w3(l1,l2,l3):\n",
    "    return np.asfarray(wigner_3j(l1,l2,l3,0,0,0))\n",
    "_w3 = np.vectorize(_w3)"
   ]
  },
  {
   "cell_type": "code",
   "execution_count": 5,
   "metadata": {
    "collapsed": true
   },
   "outputs": [],
   "source": [
    "def _check_lmax(wl,lmax):\n",
    "    \"\"\"Readjusts and returns wl and lmax.\n",
    "    Written to be used in MASTER algorithm functions\"\"\"\n",
    "    if lmax is None:\n",
    "        return wl, len(wl) - 1\n",
    "    elif len(wl) >= (lmax+1):\n",
    "        return wl[:lmax+1], lmax\n",
    "    elif len(wl) < (lmax+1):\n",
    "        print(\"lmax > len(wl)-1, using lmax = len(wl) -1 = {} instead\".format(len(wl)-1))\n",
    "        return wl, len(wl) - 1"
   ]
  },
  {
   "cell_type": "code",
   "execution_count": 19,
   "metadata": {
    "collapsed": true
   },
   "outputs": [],
   "source": [
    "def master(l1,l2,wl,lmax=None):\n",
    "    \"\"\"Calculate component (l1,l2) of M matrix.\n",
    "    > Parameters:\n",
    "    l1,l2: ints, elements of matrix\n",
    "    wl: numpy array, power spectrum of mask\n",
    "    lmax: int, if not give lmax is taken from wl\n",
    "    > Returns:\n",
    "    M_l1l2: float, element (l1,l2) of M matrix\"\"\"\n",
    "    wl_in, lmax_in = _check_lmax(wl,lmax)\n",
    "    l3 = np.arange(lmax_in+1)\n",
    "    sum_l3 = np.sum((2*l3+1)*wl_in*_w3(l1,l2,l3)**2)\n",
    "    return (2*l2+1)*sum_l3/(4*np.pi)"
   ]
  },
  {
   "cell_type": "code",
   "execution_count": 36,
   "metadata": {
    "collapsed": true
   },
   "outputs": [],
   "source": [
    "def master_matrix(wl,lmax=None, get_inv = True):\n",
    "    \"\"\"Calculate M matrix as (lmax+1,lmax+1) ndarray.\n",
    "    > Parameters:\n",
    "    wl: numpy array, power spectrum of mask\n",
    "    lmax: int, if not give lmax is taken from wl\n",
    "    get_inv: Bool, if True return matrix to transform from pseudo Cl to Cl,\n",
    "    if False returns transformation from Cl to pseudo Cl.\n",
    "    > Returns:\n",
    "    M: ndarray of dimension, the master matrix\"\"\"\n",
    "    wl_in, lmax_in = _check_lmax(wl,lmax)\n",
    "    def master2(l1,l2):\n",
    "        return master(l1,l2,wl_in,lmax_in)\n",
    "    master2 = np.vectorize(master2)\n",
    "    lrange = np.arange(lmax_in+1)\n",
    "    matrix = master2(lrange[:,None],lrange[None,:])\n",
    "    if get_inv == True:\n",
    "        return np.linalg.inv(matrix)\n",
    "    else:\n",
    "        return matrix"
   ]
  },
  {
   "cell_type": "code",
   "execution_count": 24,
   "metadata": {
    "collapsed": true
   },
   "outputs": [],
   "source": [
    "mask = hp.read_map('wiener_filter/commander_mask_n16.fits', verbose=False)\n",
    "nside = hp.get_nside(mask)\n",
    "lmax = 2*nside\n",
    "wl = hp.anafast(mask,lmax=lmax)\n",
    "cl = np.load('wiener_filter/cls_PlanckPR2_TT_lowp_lensing_lensed.npy')"
   ]
  },
  {
   "cell_type": "code",
   "execution_count": 37,
   "metadata": {},
   "outputs": [],
   "source": [
    "m_inv = master_matrix(wl)"
   ]
  },
  {
   "cell_type": "code",
   "execution_count": 38,
   "metadata": {},
   "outputs": [
    {
     "data": {
      "text/plain": [
       "(33, 33)"
      ]
     },
     "execution_count": 38,
     "metadata": {},
     "output_type": "execute_result"
    }
   ],
   "source": [
    "m.shape"
   ]
  },
  {
   "cell_type": "code",
   "execution_count": 39,
   "metadata": {
    "collapsed": true
   },
   "outputs": [],
   "source": [
    "m = np.linalg.inv(m_inv)"
   ]
  },
  {
   "cell_type": "code",
   "execution_count": 151,
   "metadata": {
    "collapsed": true
   },
   "outputs": [],
   "source": [
    "# testing method"
   ]
  },
  {
   "cell_type": "code",
   "execution_count": 29,
   "metadata": {
    "collapsed": true
   },
   "outputs": [],
   "source": [
    "cl_mu = np.zeros(lmax+1)\n",
    "cl_til_mu = np.zeros(lmax+1)\n",
    "n = 1000\n",
    "for i in range(n):\n",
    "    map_ = hp.synfast(cl,nside, lmax, verbose=False)\n",
    "    cl_mu += hp.anafast(map_,lmax=lmax)\n",
    "    map_[mask == 0] = hp.UNSEEN\n",
    "    cl_til_mu += hp.anafast(map_,lmax=lmax)\n",
    "df = pd.DataFrame(dict(cl = cl_mu/n, cl_til = cl_til_mu/n))"
   ]
  },
  {
   "cell_type": "code",
   "execution_count": 42,
   "metadata": {
    "collapsed": true
   },
   "outputs": [],
   "source": [
    "df['cl_m'] = np.dot(m,df.cl)\n",
    "df['cl_m_inv'] = np.dot(m_inv, df.cl_til)"
   ]
  },
  {
   "cell_type": "code",
   "execution_count": 43,
   "metadata": {},
   "outputs": [
    {
     "data": {
      "text/html": [
       "<div>\n",
       "<style>\n",
       "    .dataframe thead tr:only-child th {\n",
       "        text-align: right;\n",
       "    }\n",
       "\n",
       "    .dataframe thead th {\n",
       "        text-align: left;\n",
       "    }\n",
       "\n",
       "    .dataframe tbody tr th {\n",
       "        vertical-align: top;\n",
       "    }\n",
       "</style>\n",
       "<table border=\"1\" class=\"dataframe\">\n",
       "  <thead>\n",
       "    <tr style=\"text-align: right;\">\n",
       "      <th></th>\n",
       "      <th>cl</th>\n",
       "      <th>cl_til</th>\n",
       "      <th>cl_m</th>\n",
       "      <th>cl_m_inv</th>\n",
       "    </tr>\n",
       "  </thead>\n",
       "  <tbody>\n",
       "    <tr>\n",
       "      <th>count</th>\n",
       "      <td>3.300000e+01</td>\n",
       "      <td>33.000000</td>\n",
       "      <td>33.000000</td>\n",
       "      <td>33.000000</td>\n",
       "    </tr>\n",
       "    <tr>\n",
       "      <th>mean</th>\n",
       "      <td>8.584849e+01</td>\n",
       "      <td>37.647041</td>\n",
       "      <td>37.675442</td>\n",
       "      <td>85.763203</td>\n",
       "    </tr>\n",
       "    <tr>\n",
       "      <th>std</th>\n",
       "      <td>2.098252e+02</td>\n",
       "      <td>74.872368</td>\n",
       "      <td>75.952507</td>\n",
       "      <td>206.696486</td>\n",
       "    </tr>\n",
       "    <tr>\n",
       "      <th>min</th>\n",
       "      <td>2.568622e-09</td>\n",
       "      <td>4.175767</td>\n",
       "      <td>3.356637</td>\n",
       "      <td>-1.506478</td>\n",
       "    </tr>\n",
       "    <tr>\n",
       "      <th>25%</th>\n",
       "      <td>8.770128e+00</td>\n",
       "      <td>5.856167</td>\n",
       "      <td>5.554027</td>\n",
       "      <td>9.589600</td>\n",
       "    </tr>\n",
       "    <tr>\n",
       "      <th>50%</th>\n",
       "      <td>1.595076e+01</td>\n",
       "      <td>10.406025</td>\n",
       "      <td>10.263344</td>\n",
       "      <td>16.552873</td>\n",
       "    </tr>\n",
       "    <tr>\n",
       "      <th>75%</th>\n",
       "      <td>4.635650e+01</td>\n",
       "      <td>28.102012</td>\n",
       "      <td>27.826136</td>\n",
       "      <td>46.643616</td>\n",
       "    </tr>\n",
       "    <tr>\n",
       "      <th>max</th>\n",
       "      <td>1.103061e+03</td>\n",
       "      <td>392.247997</td>\n",
       "      <td>398.535980</td>\n",
       "      <td>1084.945246</td>\n",
       "    </tr>\n",
       "  </tbody>\n",
       "</table>\n",
       "</div>"
      ],
      "text/plain": [
       "                 cl      cl_til        cl_m     cl_m_inv\n",
       "count  3.300000e+01   33.000000   33.000000    33.000000\n",
       "mean   8.584849e+01   37.647041   37.675442    85.763203\n",
       "std    2.098252e+02   74.872368   75.952507   206.696486\n",
       "min    2.568622e-09    4.175767    3.356637    -1.506478\n",
       "25%    8.770128e+00    5.856167    5.554027     9.589600\n",
       "50%    1.595076e+01   10.406025   10.263344    16.552873\n",
       "75%    4.635650e+01   28.102012   27.826136    46.643616\n",
       "max    1.103061e+03  392.247997  398.535980  1084.945246"
      ]
     },
     "execution_count": 43,
     "metadata": {},
     "output_type": "execute_result"
    }
   ],
   "source": [
    "df.describe()"
   ]
  },
  {
   "cell_type": "code",
   "execution_count": 44,
   "metadata": {},
   "outputs": [
    {
     "data": {
      "image/png": "[encoded data removed]",
      "text/plain": [
       "<matplotlib.figure.Figure at 0x7f55f6ac7940>"
      ]
     },
     "metadata": {},
     "output_type": "display_data"
    }
   ],
   "source": [
    "df.plot()\n",
    "plt.show()"
   ]
  },
  {
   "cell_type": "code",
   "execution_count": 48,
   "metadata": {},
   "outputs": [
    {
     "data": {
      "text/plain": [
       "(2, 32)"
      ]
     },
     "execution_count": 48,
     "metadata": {},
     "output_type": "execute_result"
    },
    {
     "data": {
      "image/png": "[encoded data removed]",
      "text/plain": [
       "<matplotlib.figure.Figure at 0x7f55ec7fe400>"
      ]
     },
     "metadata": {},
     "output_type": "display_data"
    }
   ],
   "source": [
    "plt.plot(np.abs(df.cl-df.cl_m_inv)/df.cl_m_inv)\n",
    "plt.yscale('log')\n",
    "%plt.xlim(2,lmax)"
   ]
  },
  {
   "cell_type": "code",
   "execution_count": 53,
   "metadata": {},
   "outputs": [
    {
     "name": "stdout",
     "output_type": "stream",
     "text": [
      "29.8 s ± 131 ms per loop (mean ± std. dev. of 7 runs, 1 loop each)\n"
     ]
    }
   ],
   "source": [
    "%%timeit\n",
    "ms.master_matrix(wl)"
   ]
  },
  {
   "cell_type": "code",
   "execution_count": 52,
   "metadata": {},
   "outputs": [
    {
     "data": {
      "text/plain": [
       "True"
      ]
     },
     "execution_count": 52,
     "metadata": {},
     "output_type": "execute_result"
    }
   ],
   "source": [
    "np.all(m_mod == m_inv)"
   ]
  },
  {
   "cell_type": "code",
   "execution_count": 56,
   "metadata": {},
   "outputs": [],
   "source": [
    "import time\n",
    "\n",
    "time_list = []\n",
    "\n",
    "for lmaxx in np.arange(10,lmax):\n",
    "    to = time.time()\n",
    "    minv = ms.master_matrix(wl,lmaxx)\n",
    "    dt = time.time() - to\n",
    "    time_list.append([lmaxx,dt])"
   ]
  },
  {
   "cell_type": "code",
   "execution_count": 70,
   "metadata": {},
   "outputs": [
    {
     "data": {
      "text/plain": [
       "[11, 0.41372013092041016]"
      ]
     },
     "execution_count": 70,
     "metadata": {},
     "output_type": "execute_result"
    }
   ],
   "source": [
    "time_list "
   ]
  },
  {
   "cell_type": "code",
   "execution_count": 71,
   "metadata": {
    "collapsed": true
   },
   "outputs": [],
   "source": [
    "#time_list = np.array(time_list)[1:]\n",
    "\n",
    "#time_list = [i for i in time_list]"
   ]
  },
  {
   "cell_type": "code",
   "execution_count": 74,
   "metadata": {},
   "outputs": [],
   "source": [
    "time_list = np.array(time_list)"
   ]
  },
  {
   "cell_type": "code",
   "execution_count": 76,
   "metadata": {},
   "outputs": [
    {
     "data": {
      "text/plain": [
       "array([[ 11.        ,  12.        ,  13.        ,  14.        ,\n",
       "         15.        ,  16.        ,  17.        ,  18.        ,\n",
       "         19.        ,  20.        ,  21.        ,  22.        ,\n",
       "         23.        ,  24.        ,  25.        ,  26.        ,\n",
       "         27.        ,  28.        ,  29.        ,  30.        ,  31.        ],\n",
       "       [  0.41372013,   0.56322074,   0.77802801,   0.89616489,\n",
       "          1.20422816,   1.73655748,   2.46721458,   3.1100204 ,\n",
       "          4.15796876,   4.73708105,   5.71457648,   6.64304733,\n",
       "          7.88400459,   9.54515433,  12.05266786,  13.17577243,\n",
       "         14.87543559,  16.4520154 ,  21.31468058,  25.55587268,\n",
       "         34.04932475]])"
      ]
     },
     "execution_count": 76,
     "metadata": {},
     "output_type": "execute_result"
    }
   ],
   "source": [
    "time_list.T"
   ]
  },
  {
   "cell_type": "code",
   "execution_count": 73,
   "metadata": {},
   "outputs": [
    {
     "ename": "AttributeError",
     "evalue": "'list' object has no attribute 'T'",
     "output_type": "error",
     "traceback": [
      "\u001b[0;31m---------------------------------------------------------------------------\u001b[0m",
      "\u001b[0;31mAttributeError\u001b[0m                            Traceback (most recent call last)",
      "\u001b[0;32m<ipython-input-73-3c4aab2c27fc>\u001b[0m in \u001b[0;36m<module>\u001b[0;34m()\u001b[0m\n\u001b[0;32m----> 1\u001b[0;31m \u001b[0mtime_list\u001b[0m\u001b[0;34m.\u001b[0m\u001b[0mT\u001b[0m\u001b[0;34m\u001b[0m\u001b[0m\n\u001b[0m",
      "\u001b[0;31mAttributeError\u001b[0m: 'list' object has no attribute 'T'"
     ]
    }
   ],
   "source": [
    "time_list.T"
   ]
  },
  {
   "cell_type": "code",
   "execution_count": 77,
   "metadata": {},
   "outputs": [
    {
     "data": {
      "text/plain": [
       "[<matplotlib.lines.Line2D at 0x7f55f7bdb128>]"
      ]
     },
     "execution_count": 77,
     "metadata": {},
     "output_type": "execute_result"
    },
    {
     "data": {
      "image/png": "[encoded data removed]",
      "text/plain": [
       "<matplotlib.figure.Figure at 0x7f55f7c5e710>"
      ]
     },
     "metadata": {},
     "output_type": "display_data"
    }
   ],
   "source": [
    "plt.plot(time_list.T[0],time_list.T[1])"
   ]
  },
  {
   "cell_type": "code",
   "execution_count": 79,
   "metadata": {},
   "outputs": [
    {
     "data": {
      "text/plain": [
       "array([  0.10318597,  -2.98224865,  22.25904726])"
      ]
     },
     "execution_count": 79,
     "metadata": {},
     "output_type": "execute_result"
    }
   ],
   "source": [
    "np.polyfit(time_list.T[0],time_list.T[1],2)"
   ]
  },
  {
   "cell_type": "code",
   "execution_count": 80,
   "metadata": {
    "collapsed": true
   },
   "outputs": [],
   "source": [
    "def time(l):\n",
    "    return 0.103*l**2 -2.93*l + 22.25"
   ]
  },
  {
   "cell_type": "code",
   "execution_count": 84,
   "metadata": {},
   "outputs": [
    {
     "data": {
      "text/plain": [
       "15303.870833333332"
      ]
     },
     "execution_count": 84,
     "metadata": {},
     "output_type": "execute_result"
    }
   ],
   "source": [
    "time(3000)/60"
   ]
  }
 ],
 "metadata": {
  "kernelspec": {
   "display_name": "Python 3",
   "language": "python",
   "name": "python3"
  },
  "language_info": {
   "codemirror_mode": {
    "name": "ipython",
    "version": 3
   },
   "file_extension": ".py",
   "mimetype": "text/x-python",
   "name": "python",
   "nbconvert_exporter": "python",
   "pygments_lexer": "ipython3",
   "version": "3.5.1"
  }
 },
 "nbformat": 4,
 "nbformat_minor": 2
}
