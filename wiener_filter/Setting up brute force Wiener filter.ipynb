{
 "cells": [
  {
   "cell_type": "code",
   "execution_count": 63,
   "metadata": {
    "collapsed": true
   },
   "outputs": [],
   "source": [
    "import numpy as np\n",
    "import healpy as hp\n",
    "import matplotlib.pyplot as plt\n",
    "import planck_colormap\n",
    "import scipy\n",
    "from scipy import special\n",
    "\n",
    "%matplotlib inline"
   ]
  },
  {
   "cell_type": "code",
   "execution_count": 64,
   "metadata": {
    "collapsed": true
   },
   "outputs": [],
   "source": [
    "cm = planck_colormap.colormap()"
   ]
  },
  {
   "cell_type": "code",
   "execution_count": 65,
   "metadata": {},
   "outputs": [],
   "source": [
    "### for testing\n",
    "### set up - params\n",
    "nside = 16\n",
    "lmax = 3*nside//2\n",
    "npix = hp.nside2npix(nside)\n",
    "### importing maps\n",
    "cl = np.load('cls_PlanckPR2_TT_lowp_lensing_lensed.npy')\n",
    "tmap = hp.read_map('commander_t_map_n16.fits', verbose=False)\n",
    "noise_cov = hp.read_map('commander_noise_cov_n16.fits',verbose=False)\n",
    "mask = hp.read_map('commander_mask_n16.fits', verbose=False)"
   ]
  },
  {
   "cell_type": "code",
   "execution_count": 66,
   "metadata": {},
   "outputs": [],
   "source": [
    "class WienerFilter:\n",
    "    def __init__(self, nside, mask=None):\n",
    "        self.params = Parameters(nside)\n",
    "        if mask is not None:\n",
    "            self.mask = Mask(mask, nside)\n",
    "        else:\n",
    "            self.mask = Mask(np.ones(self.params.npix))\n",
    "            \n",
    "    def set_signal_cov(self, cl):\n",
    "        self.signal_cov = SignalCov(cl, 3*self.params.nside//2, self.params.nside)"
   ]
  },
  {
   "cell_type": "code",
   "execution_count": 67,
   "metadata": {},
   "outputs": [],
   "source": [
    "class Parameters:\n",
    "    def __init__(self, nside):\n",
    "        \"\"\"Set base parameters\"\"\"\n",
    "        self.nside = nside\n",
    "        self.npix = hp.nside2npix(nside)\n",
    "        \n",
    "class Mask:\n",
    "    \"\"\"Instantiate mask, get good_pix and bad_pix and degrade with 0.9 criteria\n",
    "    if nside_out is specified.\"\"\"\n",
    "    def __init__(self, mask, nside_out=None):\n",
    "        msk = np.copy(mask)\n",
    "        if nside_out is not None:\n",
    "            msk = hp.ud_grade(msk, nside_out)\n",
    "            msk[msk >= 0.9] = 1\n",
    "            msk[msk < 0.9] = 0\n",
    "        self.good_pix = msk == 1\n",
    "        self.bad_pix = msk == 0\n",
    "        self.mask = msk\n",
    "\n",
    "\n",
    "class SignalCov:\n",
    "    \"\"\"Calculate signal covariance matrix\"\"\"\n",
    "    def __init__(self, cl, lmax, nside):\n",
    "        self.lmax = lmax\n",
    "        self.cl = cl[:lmax+1]\n",
    "        self.l = np.arange(lmax+1)\n",
    "        self.nside = nside\n",
    "        self.npix = hp.nside2npix(nside)\n",
    "        self.get_signal_cov()\n",
    "        \n",
    "    def get_signal_cov(self):\n",
    "        cosines = self.get_cosines(self.nside)\n",
    "        unique, uniqinv = self.get_unique(cosines)\n",
    "        def s(x):\n",
    "            return self.two_point(x, self.l, self.cl, self.lmax)\n",
    "        s = np.vectorize(s)\n",
    "        s_unique = s(unique)\n",
    "        s_matrix = s_unique[uniqinv].reshape(self.npix,self.npix)\n",
    "        self.signal_cov = s_matrix\n",
    "        \n",
    "    def get_cosines(self, nside):\n",
    "        vectors = np.array(hp.pix2vec(nside,np.arange(hp.nside2npix(nside)))).transpose()\n",
    "        cosines = np.einsum('ik,jk', vectors, vectors)\n",
    "        cosines[cosines>1] =1\n",
    "        cosines[cosines<-1]=-1\n",
    "        return cosines\n",
    "    \n",
    "    def get_unique(self, cosines):\n",
    "        uniq, uniqindex, uniqinv, uniqcounts = \\\n",
    "        np.unique(cosines.flatten(),return_index=True, return_inverse=True,return_counts=True)\n",
    "        return uniq, uniqinv\n",
    "    \n",
    "    def two_point(self, x, l, cl, lmax):\n",
    "        return np.sum((2*l+1)*cl*scipy.special.lpn(lmax,x)[0])/(4*np.pi)  "
   ]
  }
 ],
 "metadata": {
  "kernelspec": {
   "display_name": "Python [Root]",
   "language": "python",
   "name": "Python [Root]"
  },
  "language_info": {
   "codemirror_mode": {
    "name": "ipython",
    "version": 3
   },
   "file_extension": ".py",
   "mimetype": "text/x-python",
   "name": "python",
   "nbconvert_exporter": "python",
   "pygments_lexer": "ipython3",
   "version": "3.5.2"
  }
 },
 "nbformat": 4,
 "nbformat_minor": 2
}
